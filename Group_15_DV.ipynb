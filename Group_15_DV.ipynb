{
  "cells": [
    {
      "cell_type": "markdown",
      "metadata": {
        "id": "Vsy5KaA8rXus"
      },
      "source": [
        "# Task - 1: Data Ingestion into Elasticsearch:\n",
        "\n",
        "- Preprocess the dataset and convert it to a format compatible with Elasticsearch (e.g., JSON or CSV).\n",
        "\n",
        "- Index the data using Logstash or Python Bulk API.\n",
        "\n",
        "- Map each feature correctly (categorical, numeric, boolean)."
      ]
    },
    {
      "cell_type": "code",
      "execution_count": 2,
      "metadata": {
        "colab": {
          "base_uri": "https://localhost:8080/"
        },
        "id": "SMZTuksWnPnW",
        "outputId": "fcefcce9-55c8-4fef-af09-658d10ea7633"
      },
      "outputs": [
        {
          "name": "stderr",
          "output_type": "stream",
          "text": [
            "<ipython-input-2-971c9442a994>:12: FutureWarning: A value is trying to be set on a copy of a DataFrame or Series through chained assignment using an inplace method.\n",
            "The behavior will change in pandas 3.0. This inplace method will never work because the intermediate object on which we are setting values always behaves as a copy.\n",
            "\n",
            "For example, when doing 'df[col].method(value, inplace=True)', try using 'df.method({col: value}, inplace=True)' or df[col] = df[col].method(value) instead, to perform the operation inplace on the original object.\n",
            "\n",
            "\n",
            "  df['bmi'].fillna(df['bmi'].median(), inplace=True)\n"
          ]
        }
      ],
      "source": [
        "import pandas as pd\n",
        "import json\n",
        "\n",
        "# Load the dataset\n",
        "df = pd.read_csv('healthcare-dataset-stroke-data.csv')  # replace with your actual file path\n",
        "\n",
        "# Replace 'N/A' with None\n",
        "df.replace('N/A', None, inplace=True)\n",
        "\n",
        "# Fill missing bmi values with median\n",
        "df['bmi'] = df['bmi'].astype(float)\n",
        "df['bmi'].fillna(df['bmi'].median(), inplace=True)\n",
        "\n",
        "# Convert boolean-like columns\n",
        "df['hypertension'] = df['hypertension'].astype(bool)\n",
        "df['heart_disease'] = df['heart_disease'].astype(bool)\n",
        "df['stroke'] = df['stroke'].astype(bool)\n",
        "\n",
        "# Optional: Convert categorical to lowercase for consistency\n",
        "categorical_cols = ['gender', 'ever_married', 'work_type', 'Residence_type', 'smoking_status']\n",
        "df[categorical_cols] = df[categorical_cols].apply(lambda x: x.str.lower())\n",
        "\n",
        "# Convert to JSON format for bulk indexing\n",
        "docs = [\n",
        "    {\"index\": {\"_index\": \"stroke_data\", \"_id\": int(row[\"id\"])}}\n",
        "    for _, row in df.iterrows()\n",
        "]\n",
        "docs += df.drop(columns=[\"id\"]).to_dict(orient='records')\n",
        "\n",
        "# Save to NDJSON file\n",
        "with open('stroke_bulk_data.json', 'w') as f:\n",
        "    for _, row in df.iterrows():\n",
        "        index_cmd = {\"index\": {\"_index\": \"stroke_data\", \"_id\": int(row[\"id\"])}}\n",
        "        data_doc = row.drop(\"id\").to_dict()\n",
        "        json.dump(index_cmd, f)\n",
        "        f.write('\\n')\n",
        "        json.dump(data_doc, f)\n",
        "        f.write('\\n')\n",
        "\n"
      ]
    },
    {
      "cell_type": "code",
      "execution_count": 2,
      "metadata": {
        "colab": {
          "base_uri": "https://localhost:8080/"
        },
        "id": "E8skeB4csxLK",
        "outputId": "67a237fd-c43e-4d1f-ac57-ed828276302b"
      },
      "outputs": [
        {
          "name": "stdout",
          "output_type": "stream",
          "text": [
            "Collecting elasticsearchNote: you may need to restart the kernel to use updated packages.\n",
            "\n",
            "  Downloading elasticsearch-8.17.2-py3-none-any.whl.metadata (8.8 kB)\n",
            "Collecting elastic-transport<9,>=8.15.1 (from elasticsearch)\n",
            "  Downloading elastic_transport-8.17.1-py3-none-any.whl.metadata (3.8 kB)\n",
            "Collecting urllib3<3,>=1.26.2 (from elastic-transport<9,>=8.15.1->elasticsearch)\n",
            "  Downloading urllib3-2.4.0-py3-none-any.whl.metadata (6.5 kB)\n",
            "Collecting certifi (from elastic-transport<9,>=8.15.1->elasticsearch)\n",
            "  Downloading certifi-2025.1.31-py3-none-any.whl.metadata (2.5 kB)\n",
            "Downloading elasticsearch-8.17.2-py3-none-any.whl (717 kB)\n",
            "   ---------------------------------------- 0.0/718.0 kB ? eta -:--:--\n",
            "   ---------------------------------------- 0.0/718.0 kB ? eta -:--:--\n",
            "   -------------- ------------------------- 262.1/718.0 kB ? eta -:--:--\n",
            "   ----------------------------- ---------- 524.3/718.0 kB 2.4 MB/s eta 0:00:01\n",
            "   ---------------------------------------- 718.0/718.0 kB 1.5 MB/s eta 0:00:00\n",
            "Downloading elastic_transport-8.17.1-py3-none-any.whl (64 kB)\n",
            "Downloading urllib3-2.4.0-py3-none-any.whl (128 kB)\n",
            "Downloading certifi-2025.1.31-py3-none-any.whl (166 kB)\n",
            "Installing collected packages: urllib3, certifi, elastic-transport, elasticsearch\n",
            "Successfully installed certifi-2025.1.31 elastic-transport-8.17.1 elasticsearch-8.17.2 urllib3-2.4.0\n"
          ]
        }
      ],
      "source": [
        "pip install elasticsearch\n"
      ]
    },
    {
      "cell_type": "code",
      "execution_count": 14,
      "metadata": {
        "colab": {
          "base_uri": "https://localhost:8080/",
          "height": 1000
        },
        "id": "40-4_5Hss0MW",
        "outputId": "b594cfc8-83a2-48b2-aaa8-81e66705e6bb"
      },
      "outputs": [
        {
          "name": "stderr",
          "output_type": "stream",
          "text": [
            "c:\\Users\\sarva\\AppData\\Local\\Programs\\Python\\Python312\\Lib\\site-packages\\urllib3\\connectionpool.py:1097: InsecureRequestWarning: Unverified HTTPS request is being made to host 'localhost'. Adding certificate verification is strongly advised. See: https://urllib3.readthedocs.io/en/latest/advanced-usage.html#tls-warnings\n",
            "  warnings.warn(\n",
            "c:\\Users\\sarva\\AppData\\Local\\Programs\\Python\\Python312\\Lib\\site-packages\\urllib3\\connectionpool.py:1097: InsecureRequestWarning: Unverified HTTPS request is being made to host 'localhost'. Adding certificate verification is strongly advised. See: https://urllib3.readthedocs.io/en/latest/advanced-usage.html#tls-warnings\n",
            "  warnings.warn(\n",
            "c:\\Users\\sarva\\AppData\\Local\\Programs\\Python\\Python312\\Lib\\site-packages\\urllib3\\connectionpool.py:1097: InsecureRequestWarning: Unverified HTTPS request is being made to host 'localhost'. Adding certificate verification is strongly advised. See: https://urllib3.readthedocs.io/en/latest/advanced-usage.html#tls-warnings\n",
            "  warnings.warn(\n",
            "c:\\Users\\sarva\\AppData\\Local\\Programs\\Python\\Python312\\Lib\\site-packages\\urllib3\\connectionpool.py:1097: InsecureRequestWarning: Unverified HTTPS request is being made to host 'localhost'. Adding certificate verification is strongly advised. See: https://urllib3.readthedocs.io/en/latest/advanced-usage.html#tls-warnings\n",
            "  warnings.warn(\n",
            "c:\\Users\\sarva\\AppData\\Local\\Programs\\Python\\Python312\\Lib\\site-packages\\urllib3\\connectionpool.py:1097: InsecureRequestWarning: Unverified HTTPS request is being made to host 'localhost'. Adding certificate verification is strongly advised. See: https://urllib3.readthedocs.io/en/latest/advanced-usage.html#tls-warnings\n",
            "  warnings.warn(\n",
            "c:\\Users\\sarva\\AppData\\Local\\Programs\\Python\\Python312\\Lib\\site-packages\\urllib3\\connectionpool.py:1097: InsecureRequestWarning: Unverified HTTPS request is being made to host 'localhost'. Adding certificate verification is strongly advised. See: https://urllib3.readthedocs.io/en/latest/advanced-usage.html#tls-warnings\n",
            "  warnings.warn(\n",
            "c:\\Users\\sarva\\AppData\\Local\\Programs\\Python\\Python312\\Lib\\site-packages\\urllib3\\connectionpool.py:1097: InsecureRequestWarning: Unverified HTTPS request is being made to host 'localhost'. Adding certificate verification is strongly advised. See: https://urllib3.readthedocs.io/en/latest/advanced-usage.html#tls-warnings\n",
            "  warnings.warn(\n",
            "c:\\Users\\sarva\\AppData\\Local\\Programs\\Python\\Python312\\Lib\\site-packages\\urllib3\\connectionpool.py:1097: InsecureRequestWarning: Unverified HTTPS request is being made to host 'localhost'. Adding certificate verification is strongly advised. See: https://urllib3.readthedocs.io/en/latest/advanced-usage.html#tls-warnings\n",
            "  warnings.warn(\n",
            "c:\\Users\\sarva\\AppData\\Local\\Programs\\Python\\Python312\\Lib\\site-packages\\urllib3\\connectionpool.py:1097: InsecureRequestWarning: Unverified HTTPS request is being made to host 'localhost'. Adding certificate verification is strongly advised. See: https://urllib3.readthedocs.io/en/latest/advanced-usage.html#tls-warnings\n",
            "  warnings.warn(\n",
            "c:\\Users\\sarva\\AppData\\Local\\Programs\\Python\\Python312\\Lib\\site-packages\\urllib3\\connectionpool.py:1097: InsecureRequestWarning: Unverified HTTPS request is being made to host 'localhost'. Adding certificate verification is strongly advised. See: https://urllib3.readthedocs.io/en/latest/advanced-usage.html#tls-warnings\n",
            "  warnings.warn(\n",
            "c:\\Users\\sarva\\AppData\\Local\\Programs\\Python\\Python312\\Lib\\site-packages\\urllib3\\connectionpool.py:1097: InsecureRequestWarning: Unverified HTTPS request is being made to host 'localhost'. Adding certificate verification is strongly advised. See: https://urllib3.readthedocs.io/en/latest/advanced-usage.html#tls-warnings\n",
            "  warnings.warn(\n",
            "c:\\Users\\sarva\\AppData\\Local\\Programs\\Python\\Python312\\Lib\\site-packages\\urllib3\\connectionpool.py:1097: InsecureRequestWarning: Unverified HTTPS request is being made to host 'localhost'. Adding certificate verification is strongly advised. See: https://urllib3.readthedocs.io/en/latest/advanced-usage.html#tls-warnings\n",
            "  warnings.warn(\n"
          ]
        },
        {
          "name": "stdout",
          "output_type": "stream",
          "text": [
            "✅ Indexed 5110 documents into 'stroke_data'\n"
          ]
        },
        {
          "name": "stderr",
          "output_type": "stream",
          "text": [
            "c:\\Users\\sarva\\AppData\\Local\\Programs\\Python\\Python312\\Lib\\site-packages\\urllib3\\connectionpool.py:1097: InsecureRequestWarning: Unverified HTTPS request is being made to host 'localhost'. Adding certificate verification is strongly advised. See: https://urllib3.readthedocs.io/en/latest/advanced-usage.html#tls-warnings\n",
            "  warnings.warn(\n"
          ]
        }
      ],
      "source": [
        "from elasticsearch import Elasticsearch\n",
        "from elasticsearch.helpers import bulk\n",
        "import json\n",
        "\n",
        "# your Elasticsearch password\n",
        "password = \"uN=9kPhqvt+WJvd=S3vt\"\n",
        "\n",
        "# connect to Elasticsearch\n",
        "es = Elasticsearch(\"https://localhost:9200\", basic_auth=(\"elastic\", password), verify_certs=False)\n",
        "\n",
        "# delete existing index if present\n",
        "if es.indices.exists(index=\"stroke_data\"):\n",
        "    es.indices.delete(index=\"stroke_data\")\n",
        "\n",
        "# define mapping using correct data types\n",
        "mapping = {\n",
        "    \"mappings\": {\n",
        "        \"properties\": {\n",
        "            # categorical fields\n",
        "            \"gender\": { \"type\": \"keyword\" },\n",
        "            \"ever_married\": { \"type\": \"keyword\" },\n",
        "            \"work_type\": { \"type\": \"keyword\" },\n",
        "            \"Residence_type\": { \"type\": \"keyword\" },\n",
        "            \"smoking_status\": { \"type\": \"keyword\" },\n",
        "\n",
        "            # numeric fields\n",
        "            \"age\": { \"type\": \"float\" },\n",
        "            \"avg_glucose_level\": { \"type\": \"float\" },\n",
        "            \"bmi\": { \"type\": \"float\" },\n",
        "\n",
        "            # boolean fields\n",
        "            \"hypertension\": { \"type\": \"boolean\" },\n",
        "            \"heart_disease\": { \"type\": \"boolean\" },\n",
        "            \"stroke\": { \"type\": \"boolean\" }\n",
        "        }\n",
        "    }\n",
        "}\n",
        "\n",
        "# create index\n",
        "es.indices.create(index=\"stroke_data\", body=mapping)\n",
        "\n",
        "# load bulk data from JSON file\n",
        "with open(\"stroke_bulk_data.json\", 'r') as f:\n",
        "    lines = f.readlines()\n",
        "\n",
        "actions = []\n",
        "i = 0\n",
        "while i < len(lines):\n",
        "    meta = json.loads(lines[i])\n",
        "    doc = json.loads(lines[i+1])\n",
        "    actions.append({\n",
        "        \"_index\": \"stroke_data\",\n",
        "        \"_id\": meta[\"index\"].get(\"_id\"),\n",
        "        \"_source\": doc\n",
        "    })\n",
        "    i += 2\n",
        "\n",
        "# bulk insert\n",
        "success, _ = bulk(es, actions)\n",
        "print(f\"✅ Indexed {success} documents into 'stroke_data'\")\n"
      ]
    },
    {
      "cell_type": "code",
      "execution_count": 11,
      "metadata": {},
      "outputs": [
        {
          "name": "stdout",
          "output_type": "stream",
          "text": [
            "{'gender': 'male', 'age': 67.0, 'hypertension': False, 'heart_disease': True, 'ever_married': 'yes', 'work_type': 'private', 'Residence_type': 'urban', 'avg_glucose_level': 228.69, 'bmi': 36.6, 'smoking_status': 'formerly smoked', 'stroke': True}\n",
            "{'gender': 'female', 'age': 61.0, 'hypertension': False, 'heart_disease': False, 'ever_married': 'yes', 'work_type': 'self-employed', 'Residence_type': 'rural', 'avg_glucose_level': 202.21, 'bmi': 28.1, 'smoking_status': 'never smoked', 'stroke': True}\n",
            "{'gender': 'male', 'age': 80.0, 'hypertension': False, 'heart_disease': True, 'ever_married': 'yes', 'work_type': 'private', 'Residence_type': 'rural', 'avg_glucose_level': 105.92, 'bmi': 32.5, 'smoking_status': 'never smoked', 'stroke': True}\n",
            "{'gender': 'female', 'age': 49.0, 'hypertension': False, 'heart_disease': False, 'ever_married': 'yes', 'work_type': 'private', 'Residence_type': 'urban', 'avg_glucose_level': 171.23, 'bmi': 34.4, 'smoking_status': 'smokes', 'stroke': True}\n",
            "{'gender': 'female', 'age': 79.0, 'hypertension': True, 'heart_disease': False, 'ever_married': 'yes', 'work_type': 'self-employed', 'Residence_type': 'rural', 'avg_glucose_level': 174.12, 'bmi': 24.0, 'smoking_status': 'never smoked', 'stroke': True}\n"
          ]
        },
        {
          "name": "stderr",
          "output_type": "stream",
          "text": [
            "c:\\Users\\sarva\\AppData\\Local\\Programs\\Python\\Python312\\Lib\\site-packages\\urllib3\\connectionpool.py:1097: InsecureRequestWarning: Unverified HTTPS request is being made to host 'localhost'. Adding certificate verification is strongly advised. See: https://urllib3.readthedocs.io/en/latest/advanced-usage.html#tls-warnings\n",
            "  warnings.warn(\n"
          ]
        }
      ],
      "source": [
        "res = es.search(index=\"stroke_data\", size=5)\n",
        "for doc in res['hits']['hits']:\n",
        "    print(doc['_source'])\n"
      ]
    },
    {
      "cell_type": "code",
      "execution_count": 12,
      "metadata": {},
      "outputs": [
        {
          "name": "stdout",
          "output_type": "stream",
          "text": [
            "{\n",
            "  \"stroke_data\": {\n",
            "    \"mappings\": {\n",
            "      \"properties\": {\n",
            "        \"Residence_type\": {\n",
            "          \"type\": \"keyword\"\n",
            "        },\n",
            "        \"age\": {\n",
            "          \"type\": \"float\"\n",
            "        },\n",
            "        \"avg_glucose_level\": {\n",
            "          \"type\": \"float\"\n",
            "        },\n",
            "        \"bmi\": {\n",
            "          \"type\": \"float\"\n",
            "        },\n",
            "        \"ever_married\": {\n",
            "          \"type\": \"keyword\"\n",
            "        },\n",
            "        \"gender\": {\n",
            "          \"type\": \"keyword\"\n",
            "        },\n",
            "        \"heart_disease\": {\n",
            "          \"type\": \"boolean\"\n",
            "        },\n",
            "        \"hypertension\": {\n",
            "          \"type\": \"boolean\"\n",
            "        },\n",
            "        \"smoking_status\": {\n",
            "          \"type\": \"keyword\"\n",
            "        },\n",
            "        \"stroke\": {\n",
            "          \"type\": \"boolean\"\n",
            "        },\n",
            "        \"work_type\": {\n",
            "          \"type\": \"keyword\"\n",
            "        }\n",
            "      }\n",
            "    }\n",
            "  }\n",
            "}\n"
          ]
        },
        {
          "name": "stderr",
          "output_type": "stream",
          "text": [
            "c:\\Users\\sarva\\AppData\\Local\\Programs\\Python\\Python312\\Lib\\site-packages\\urllib3\\connectionpool.py:1097: InsecureRequestWarning: Unverified HTTPS request is being made to host 'localhost'. Adding certificate verification is strongly advised. See: https://urllib3.readthedocs.io/en/latest/advanced-usage.html#tls-warnings\n",
            "  warnings.warn(\n"
          ]
        }
      ],
      "source": [
        "mapping = es.indices.get_mapping(index=\"stroke_data\")\n",
        "print(json.dumps(mapping.body, indent=2))\n"
      ]
    },
    {
      "cell_type": "markdown",
      "metadata": {},
      "source": [
        "## Task - 2: Kibana Dashboard Design:\n",
        "\n",
        "- Visualize each dataset feature using suitable charts:\n",
        "\n",
        "- Pie/Donut for gender, marital status\n",
        "\n",
        "- Histogram/Line for age, glucose levels\n",
        "\n",
        "- Bar/Stacked Bar for hypertension, heart disease, smoking status\n",
        "\n",
        "- Heatmaps and alerts for stroke risk tracking\n",
        " "
      ]
    },
    {
      "cell_type": "code",
      "execution_count": null,
      "metadata": {},
      "outputs": [],
      "source": []
    }
  ],
  "metadata": {
    "colab": {
      "provenance": []
    },
    "kernelspec": {
      "display_name": "Python 3",
      "name": "python3"
    },
    "language_info": {
      "codemirror_mode": {
        "name": "ipython",
        "version": 3
      },
      "file_extension": ".py",
      "mimetype": "text/x-python",
      "name": "python",
      "nbconvert_exporter": "python",
      "pygments_lexer": "ipython3",
      "version": "3.12.9"
    }
  },
  "nbformat": 4,
  "nbformat_minor": 0
}
